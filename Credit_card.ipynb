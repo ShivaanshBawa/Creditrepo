{
  "nbformat": 4,
  "nbformat_minor": 0,
  "metadata": {
    "colab": {
      "provenance": [],
      "authorship_tag": "ABX9TyNWoAIYoxCJMojUMlKLwWcW",
      "include_colab_link": true
    },
    "kernelspec": {
      "name": "python3",
      "display_name": "Python 3"
    },
    "language_info": {
      "name": "python"
    }
  },
  "cells": [
    {
      "cell_type": "markdown",
      "metadata": {
        "id": "view-in-github",
        "colab_type": "text"
      },
      "source": [
        "<a href=\"https://colab.research.google.com/github/ShivaanshBawa/Creditrepo/blob/main/Credit_card.ipynb\" target=\"_parent\"><img src=\"https://colab.research.google.com/assets/colab-badge.svg\" alt=\"Open In Colab\"/></a>"
      ]
    },
    {
      "cell_type": "code",
      "source": [
        "\n",
        "from google.colab import drive\n",
        "drive.mount('/content/drive')"
      ],
      "metadata": {
        "colab": {
          "base_uri": "https://localhost:8080/"
        },
        "id": "if3VtuYDRgij",
        "outputId": "dadf6356-ffa9-4401-9535-46c99f3839e3"
      },
      "execution_count": null,
      "outputs": [
        {
          "output_type": "stream",
          "name": "stdout",
          "text": [
            "Mounted at /content/drive\n"
          ]
        }
      ]
    },
    {
      "cell_type": "markdown",
      "source": [
        "Importing the Libraries"
      ],
      "metadata": {
        "id": "c5fdmjHbWoNV"
      }
    },
    {
      "cell_type": "code",
      "execution_count": null,
      "metadata": {
        "id": "RwQ77GU2RbPx"
      },
      "outputs": [],
      "source": [
        "\n",
        "import numpy as np\n",
        "import pandas as pd\n",
        "from sklearn.model_selection import train_test_split\n",
        "from sklearn.linear_model import LogisticRegression\n",
        "from sklearn.metrics import accuracy_score"
      ]
    },
    {
      "cell_type": "markdown",
      "source": [
        "loading the dataset to a Pandas DataFrame"
      ],
      "metadata": {
        "id": "8_TGIFPw2OI7"
      }
    },
    {
      "cell_type": "code",
      "source": [
        "\n",
        "credit_card_data = pd.read_csv('drive/MyDrive/Creditreco/creditcard.csv')"
      ],
      "metadata": {
        "id": "m90N8h4qSg6K"
      },
      "execution_count": null,
      "outputs": []
    },
    {
      "cell_type": "markdown",
      "source": [
        "first 5 rows of the dataset"
      ],
      "metadata": {
        "id": "LLRkDmRZ2Nph"
      }
    },
    {
      "cell_type": "code",
      "source": [
        "\n",
        "credit_card_data.head()"
      ],
      "metadata": {
        "id": "pacwtPkCSjzZ"
      },
      "execution_count": null,
      "outputs": []
    },
    {
      "cell_type": "markdown",
      "source": [
        "information about dataset"
      ],
      "metadata": {
        "id": "3OnwzLP-2M6v"
      }
    },
    {
      "cell_type": "code",
      "source": [
        "\n",
        "credit_card_data.info()"
      ],
      "metadata": {
        "id": "U0-P7lHxSnpY"
      },
      "execution_count": null,
      "outputs": []
    },
    {
      "cell_type": "markdown",
      "source": [
        "checking the number of missing values in each column"
      ],
      "metadata": {
        "id": "xYooUvNi2MbA"
      }
    },
    {
      "cell_type": "code",
      "source": [
        "\n",
        "credit_card_data.isnull().sum()"
      ],
      "metadata": {
        "id": "fcBl-FmtTzlA"
      },
      "execution_count": null,
      "outputs": []
    },
    {
      "cell_type": "markdown",
      "source": [
        "distribution of legit & fraudulent transactions"
      ],
      "metadata": {
        "id": "EF88wJG52L2a"
      }
    },
    {
      "cell_type": "code",
      "source": [
        "s\n",
        "credit_card_data['Class'].value_counts()"
      ],
      "metadata": {
        "id": "d7PJkdNtT4zo"
      },
      "execution_count": null,
      "outputs": []
    },
    {
      "cell_type": "markdown",
      "source": [
        "This Dataset is highly unbalanced\n",
        "Therefore,\n",
        "\n",
        "0 --> Normal Transaction\n",
        "\n",
        "1 --> fraudulent transaction"
      ],
      "metadata": {
        "id": "NtcNZZotUDeH"
      }
    },
    {
      "cell_type": "markdown",
      "source": [
        " separating the data for analysis"
      ],
      "metadata": {
        "id": "VHXR680D2IK1"
      }
    },
    {
      "cell_type": "code",
      "source": [
        "\n",
        "legit = credit_card_data[credit_card_data.Class == 0]\n",
        "fraud = credit_card_data[credit_card_data.Class == 1]"
      ],
      "metadata": {
        "id": "EeKcpCtQUR9_"
      },
      "execution_count": null,
      "outputs": []
    },
    {
      "cell_type": "code",
      "source": [
        "print(legit.shape)\n",
        "print(fraud.shape)"
      ],
      "metadata": {
        "id": "x4LYk4yBUV-e"
      },
      "execution_count": null,
      "outputs": []
    },
    {
      "cell_type": "markdown",
      "source": [
        " statistical measures of the data"
      ],
      "metadata": {
        "id": "5kKZaZFF1_tn"
      }
    },
    {
      "cell_type": "code",
      "source": [
        "\n",
        "legit.Amount.describe()"
      ],
      "metadata": {
        "id": "tu8a7IijUZto"
      },
      "execution_count": null,
      "outputs": []
    },
    {
      "cell_type": "code",
      "source": [
        "fraud.Amount.describe()"
      ],
      "metadata": {
        "id": "lr1WrQHjUcgJ"
      },
      "execution_count": null,
      "outputs": []
    },
    {
      "cell_type": "markdown",
      "source": [
        "## Under-Sampling\n",
        "\n",
        "Build a sample dataset containing similar distribution of normal transactions and Fraudulent Transactions\n",
        "\n",
        "Number of Fraudulent Transactions --> 492"
      ],
      "metadata": {
        "id": "AxCm2Y_CUrEM"
      }
    },
    {
      "cell_type": "code",
      "source": [
        "legit_sample = legit.sample(n=492)"
      ],
      "metadata": {
        "id": "A6l2EQcRVEym"
      },
      "execution_count": null,
      "outputs": []
    },
    {
      "cell_type": "markdown",
      "source": [
        "### Concatenating two DataFrames"
      ],
      "metadata": {
        "id": "t5jByqFAVH0P"
      }
    },
    {
      "cell_type": "code",
      "source": [
        "new_dataset = pd.concat([legit_sample, fraud], axis=0)"
      ],
      "metadata": {
        "id": "7QnIGNNXVOFe"
      },
      "execution_count": null,
      "outputs": []
    },
    {
      "cell_type": "code",
      "source": [
        "new_dataset.head()"
      ],
      "metadata": {
        "id": "cOL6Cl7QVZxO"
      },
      "execution_count": null,
      "outputs": []
    },
    {
      "cell_type": "code",
      "source": [
        "new_dataset['Class'].value_counts()"
      ],
      "metadata": {
        "id": "4df27tmPVhTe"
      },
      "execution_count": null,
      "outputs": []
    },
    {
      "cell_type": "code",
      "source": [
        "new_dataset.groupby('Class').mean()"
      ],
      "metadata": {
        "id": "OVo0HhKsViW9"
      },
      "execution_count": null,
      "outputs": []
    },
    {
      "cell_type": "markdown",
      "source": [
        "## Splitting the data into Features & Targets"
      ],
      "metadata": {
        "id": "mdB7BO8CVojS"
      }
    },
    {
      "cell_type": "code",
      "source": [
        "X = new_dataset.drop(columns='Class', axis=1)\n",
        "Y = new_dataset['Class']"
      ],
      "metadata": {
        "id": "2lWFipO0VqaF"
      },
      "execution_count": null,
      "outputs": []
    },
    {
      "cell_type": "code",
      "source": [
        "print(X)"
      ],
      "metadata": {
        "id": "16DDSZAHVtzW"
      },
      "execution_count": null,
      "outputs": []
    },
    {
      "cell_type": "code",
      "source": [
        "print(Y)"
      ],
      "metadata": {
        "id": "NKGJINt6Vwkt"
      },
      "execution_count": null,
      "outputs": []
    },
    {
      "cell_type": "markdown",
      "source": [
        "## Split the data into Training data & Testing Data"
      ],
      "metadata": {
        "id": "IO4CBWKWV2Sb"
      }
    },
    {
      "cell_type": "code",
      "source": [
        "X_train, X_test, Y_train, Y_test = train_test_split(X, Y, test_size=0.2, stratify=Y, random_state=2)"
      ],
      "metadata": {
        "id": "_4FJ_RQaV3aV"
      },
      "execution_count": null,
      "outputs": []
    },
    {
      "cell_type": "code",
      "source": [
        "print(X.shape, X_train.shape, X_test.shape)"
      ],
      "metadata": {
        "id": "6omST1n6V6dg"
      },
      "execution_count": null,
      "outputs": []
    },
    {
      "cell_type": "markdown",
      "source": [
        "## Model Training\n",
        "\n",
        "### Logistic Regression"
      ],
      "metadata": {
        "id": "Y9x3sJ5RV9CK"
      }
    },
    {
      "cell_type": "code",
      "source": [
        "model = LogisticRegression()"
      ],
      "metadata": {
        "id": "ylCH3BzUWIqc"
      },
      "execution_count": null,
      "outputs": []
    },
    {
      "cell_type": "markdown",
      "source": [
        "training the Logistic Regression"
      ],
      "metadata": {
        "id": "cgNb8TGT147J"
      }
    },
    {
      "cell_type": "code",
      "source": [
        " Model with Training Data\n",
        "model.fit(X_train, Y_train)"
      ],
      "metadata": {
        "id": "pfr6i_ExWM9x"
      },
      "execution_count": null,
      "outputs": []
    },
    {
      "cell_type": "markdown",
      "source": [
        "## Model Evaluation\n",
        "\n",
        "### Accuracy Score"
      ],
      "metadata": {
        "id": "6gUEtiE9WTIF"
      }
    },
    {
      "cell_type": "markdown",
      "source": [
        "accuracy on training data"
      ],
      "metadata": {
        "id": "Khw1kHjU1xwC"
      }
    },
    {
      "cell_type": "code",
      "source": [
        "\n",
        "X_train_prediction = model.predict(X_train)\n",
        "training_data_accuracy = accuracy_score(X_train_prediction, Y_train)"
      ],
      "metadata": {
        "id": "mUoF7SB9WYP6"
      },
      "execution_count": null,
      "outputs": []
    },
    {
      "cell_type": "code",
      "source": [
        "print('Accuracy on Training data : ', training_data_accuracy)"
      ],
      "metadata": {
        "id": "dXO6vQm9WbOt"
      },
      "execution_count": null,
      "outputs": []
    },
    {
      "cell_type": "markdown",
      "source": [
        " accuracy on test data"
      ],
      "metadata": {
        "id": "ZxMR0aQK1olJ"
      }
    },
    {
      "cell_type": "code",
      "source": [
        "\n",
        "X_test_prediction = model.predict(X_test)\n",
        "test_data_accuracy = accuracy_score(X_test_prediction, Y_test)"
      ],
      "metadata": {
        "id": "4CLeRm5aWgWi"
      },
      "execution_count": null,
      "outputs": []
    },
    {
      "cell_type": "code",
      "source": [
        "print('Accuracy score on Test Data : ', test_data_accuracy)"
      ],
      "metadata": {
        "id": "BCfeJFr7Wiw-"
      },
      "execution_count": null,
      "outputs": []
    }
  ]
}